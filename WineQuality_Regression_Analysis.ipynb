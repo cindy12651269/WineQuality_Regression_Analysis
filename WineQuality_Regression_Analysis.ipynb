{
  "nbformat": 4,
  "nbformat_minor": 0,
  "metadata": {
    "colab": {
      "provenance": [],
      "authorship_tag": "ABX9TyMRGn/rHbpN+ucVRBaOjQYY",
      "include_colab_link": true
    },
    "kernelspec": {
      "name": "python3",
      "display_name": "Python 3"
    },
    "language_info": {
      "name": "python"
    }
  },
  "cells": [
    {
      "cell_type": "markdown",
      "metadata": {
        "id": "view-in-github",
        "colab_type": "text"
      },
      "source": [
        "<a href=\"https://colab.research.google.com/github/cindy12651269/WineQuality_Regression_Analysis/blob/cindy12651269%2Fhw1/WineQuality_Regression_Analysis.ipynb\" target=\"_parent\"><img src=\"https://colab.research.google.com/assets/colab-badge.svg\" alt=\"Open In Colab\"/></a>"
      ]
    },
    {
      "cell_type": "code",
      "execution_count": 2,
      "metadata": {
        "id": "r-flWd_rZnlN",
        "colab": {
          "base_uri": "https://localhost:8080/"
        },
        "outputId": "0466eb92-c515-413d-ed5b-752e1e92e1c3"
      },
      "outputs": [
        {
          "output_type": "stream",
          "name": "stdout",
          "text": [
            "                            OLS Regression Results                            \n",
            "==============================================================================\n",
            "Dep. Variable:                quality   R-squared:                       0.292\n",
            "Model:                            OLS   Adj. R-squared:                  0.291\n",
            "Method:                 Least Squares   F-statistic:                     242.8\n",
            "Date:                Thu, 25 Jul 2024   Prob (F-statistic):               0.00\n",
            "Time:                        09:05:33   Log-Likelihood:                -7207.6\n",
            "No. Observations:                6487   AIC:                         1.444e+04\n",
            "Df Residuals:                    6475   BIC:                         1.452e+04\n",
            "Df Model:                          11                                         \n",
            "Covariance Type:            nonrobust                                         \n",
            "========================================================================================\n",
            "                           coef    std err          t      P>|t|      [0.025      0.975]\n",
            "----------------------------------------------------------------------------------------\n",
            "const                   56.0051     11.902      4.706      0.000      32.674      79.337\n",
            "alcohol                  0.2665      0.017     15.920      0.000       0.234       0.299\n",
            "chlorides               -0.4858      0.333     -1.459      0.145      -1.138       0.167\n",
            "citric acid             -0.1078      0.080     -1.353      0.176      -0.264       0.048\n",
            "density                -55.2145     12.146     -4.546      0.000     -79.024     -31.405\n",
            "fixed acidity            0.0680      0.016      4.359      0.000       0.037       0.099\n",
            "free sulfur dioxide      0.0060      0.001      7.962      0.000       0.005       0.007\n",
            "pH                       0.4411      0.090      4.875      0.000       0.264       0.619\n",
            "residual sugar           0.0436      0.005      8.451      0.000       0.033       0.054\n",
            "sulphates                0.7690      0.076     10.095      0.000       0.620       0.918\n",
            "total sulfur dioxide    -0.0025      0.000     -8.972      0.000      -0.003      -0.002\n",
            "volatile acidity        -1.3270      0.077    -17.139      0.000      -1.479      -1.175\n",
            "==============================================================================\n",
            "Omnibus:                      143.514   Durbin-Watson:                   1.646\n",
            "Prob(Omnibus):                  0.000   Jarque-Bera (JB):              323.066\n",
            "Skew:                          -0.006   Prob(JB):                     7.03e-71\n",
            "Kurtosis:                       4.093   Cond. No.                     2.49e+05\n",
            "==============================================================================\n",
            "\n",
            "Notes:\n",
            "[1] Standard Errors assume that the covariance matrix of the errors is correctly specified.\n",
            "[2] The condition number is large, 2.49e+05. This might indicate that there are\n",
            "strong multicollinearity or other numerical problems.\n",
            "6487    5.439116\n",
            "6488    5.688767\n",
            "6489    6.121787\n",
            "6490    5.931745\n",
            "6491    5.661985\n",
            "6492    6.169059\n",
            "6493    5.608899\n",
            "6494    5.419422\n",
            "6495    6.432345\n",
            "6496    6.205833\n",
            "dtype: float64\n"
          ]
        }
      ],
      "source": [
        "import pandas as pd\n",
        "import statsmodels.api as sm\n",
        "\n",
        "source = 'https://raw.githubusercontent.com/cbrownley/foundations-for-analytics-with-python/master/statistics/winequality-both.csv'\n",
        "df = pd.read_csv(source)\n",
        "\n",
        "# Use the last 10 rows as the test data\n",
        "test = df.tail(10)\n",
        "testy = test['quality']\n",
        "testX = sm.add_constant(test[test.columns.difference(['type','quality'])])\n",
        "# Use the remaining data as the training data\n",
        "train = df.iloc[:-10]\n",
        "y = train['quality']\n",
        "X = sm.add_constant(train[train.columns.difference(['type','quality'])])\n",
        "\n",
        "# A: Train the regression model\n",
        "model = sm.OLS(y, X).fit()\n",
        "# B: Output the model summary\n",
        "print(model.summary())\n",
        "\n",
        "\n",
        "# C: Use the trained model to predict the test data\n",
        "print(model.predict(testX))\n",
        "\n"
      ]
    }
  ]
}