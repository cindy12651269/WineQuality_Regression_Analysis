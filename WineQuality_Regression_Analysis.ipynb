{
  "nbformat": 4,
  "nbformat_minor": 0,
  "metadata": {
    "colab": {
      "provenance": [],
      "authorship_tag": "ABX9TyNay/JpNlZeTOxWmkAdqGGh",
      "include_colab_link": true
    },
    "kernelspec": {
      "name": "python3",
      "display_name": "Python 3"
    },
    "language_info": {
      "name": "python"
    }
  },
  "cells": [
    {
      "cell_type": "markdown",
      "metadata": {
        "id": "view-in-github",
        "colab_type": "text"
      },
      "source": [
        "<a href=\"https://colab.research.google.com/github/cindy12651269/WineQuality_Regression_Analysis/blob/cindy12651269%2Fhw1/WineQuality_Regression_Analysis.ipynb\" target=\"_parent\"><img src=\"https://colab.research.google.com/assets/colab-badge.svg\" alt=\"Open In Colab\"/></a>"
      ]
    },
    {
      "cell_type": "code",
      "execution_count": null,
      "metadata": {
        "id": "r-flWd_rZnlN"
      },
      "outputs": [],
      "source": [
        "import pandas as pd\n",
        "import statsmodels.api as sm\n",
        "\n",
        "source = 'https://raw.githubusercontent.com/cbrownley/foundations-for-analytics-with-python/master/statistics/winequality-both.csv'\n",
        "df = pd.read_csv(source)\n",
        "\n",
        "# Use the last 10 rows as the test data\n",
        "test = df.tail(10)\n",
        "testy = test['quality']\n",
        "testX = sm.add_constant(test[test.columns.difference(['type', 'quality'])])\n",
        "\n",
        "# Use the remaining data as the training data\n",
        "train = df.iloc[:-10]\n",
        "y = train['quality']\n",
        "X = sm.add_constant(train[train.columns.difference(['type', 'quality'])])\n",
        "\n",
        "# A: Train the regression model\n",
        "model = sm.OLS(y, X).fit()\n",
        "\n",
        "# B: Output the model summary\n",
        "print(model.summary())\n",
        "\n",
        "# C: Use the trained model to predict the test data\n",
        "print(model.predict(testX))\n"
      ]
    }
  ]
}